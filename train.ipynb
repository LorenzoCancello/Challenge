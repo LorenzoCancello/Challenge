{
 "cells": [
  {
   "cell_type": "code",
   "execution_count": 1,
   "metadata": {},
   "outputs": [],
   "source": [
    "import sklearn\n",
    "import pandas as pd\n",
    "import numpy as np\n",
    "from sklearn import metrics\n",
    "from sklearn.model_selection import train_test_split\n",
    "from sklearn.ensemble import RandomForestClassifier\n",
    "from sklearn.preprocessing import LabelEncoder\n",
    "from sklearn.pipeline import Pipeline\n",
    "from sklearn.decomposition import PCA\n",
    "from sklearn.preprocessing import StandardScaler"
   ]
  },
  {
   "cell_type": "code",
   "execution_count": 3,
   "metadata": {},
   "outputs": [],
   "source": [
    "train = pd.read_csv('train.csv')\n",
    "test = pd.read_csv('test.csv')\n",
    "\n",
    "train2 = train.copy()\n",
    "test2 = test.copy()\n",
    "\n",
    "train2.drop(train2[(train2.Age <= 0) & (train2.Age >= 100)].index, inplace=True)\n",
    "test2.drop(test2[(test2.Age <= 0) & (test2.Age >= 100)].index, inplace=True)\n",
    "\n",
    "\n",
    "# rimuovo i valori mancanti\n",
    "train2.replace(\"\", np.nan, inplace=True)\n",
    "train2.replace(\" \", np.nan, inplace=True)\n",
    "train2.replace(\"?\", np.nan, inplace=True)\n",
    "test2.replace(\"\", np.nan, inplace=True)\n",
    "test2.replace(\" \", np.nan, inplace=True)\n",
    "test2.replace(\"?\", np.nan, inplace=True)\n",
    "\n",
    "train2['ScheduledDay'] = pd.to_datetime(train2['ScheduledDay'])\n",
    "test2['ScheduledDay'] = pd.to_datetime(test2['ScheduledDay']) \n",
    "train2['Period'] = pd.cut(train2.ScheduledDay.dt.hour,[0,8,12,18,24],labels=['Night','Morning','Afternoon','Evening'])\n",
    "test2['Period'] = pd.cut(test2.ScheduledDay.dt.hour,[0,8,12,18,24],labels=['Night','Morning','Afternoon','Evening'])\n",
    "\n",
    "features = ['Gender', 'Age', 'Neighbourhood', 'AppointmentDay' ,'Scholarship', 'Hipertension',\n",
    "       'Diabetes', 'Alcoholism', 'Handcap', 'SMS_received','Period']\n",
    "\n",
    "for elemento in train2:\n",
    "  if elemento==\"Age\" or elemento==\"Scholarship\" or elemento == \"Hipertension\" or elemento == \"Diabetes\" or elemento == \"Alcoholism\" or elemento == \"Handcap\" or elemento == \"SMS_received\":\n",
    "   train2[elemento] = train2[elemento].astype('float')\n",
    "  else:\n",
    "   train2[elemento] = (pd.Categorical(train2[elemento])).codes.astype('float')\n",
    "for elemento in test2:\n",
    "  if elemento==\"Age\" or elemento==\"Scholarship\" or elemento == \"Hipertension\" or elemento == \"Diabetes\" or elemento == \"Alcoholism\" or elemento == \"Handcap\" or elemento == \"SMS_received\":\n",
    "   test2[elemento] = test2[elemento].astype('float')\n",
    "  else:\n",
    "   test2[elemento] = (pd.Categorical(test2[elemento])).codes.astype('float')\n",
    "\n",
    "X=train2[features]\n",
    "Y=train2['No-show']\n",
    "X_test=test2[features]\n",
    "Y_test=test2['No-show']\n",
    "\n",
    "\n",
    "label_encoder = LabelEncoder()\n",
    "\n",
    "Y = label_encoder.fit_transform(Y)\n",
    "Y_test = label_encoder.transform(Y_test)"
   ]
  },
  {
   "cell_type": "code",
   "execution_count": 4,
   "metadata": {},
   "outputs": [
    {
     "name": "stdout",
     "output_type": "stream",
     "text": [
      "Score finale di test:  0.7737065309584393\n",
      "Accuratezza train: 0.9865273693734449\n",
      "Accuratezza test: 0.7737065309584393\n",
      "77%\n"
     ]
    }
   ],
   "source": [
    "pipe = Pipeline([\n",
    "        ('scaler', StandardScaler()),\n",
    "        ('reduce_dim', PCA()),\n",
    "        ('classifier', RandomForestClassifier(random_state=42) )\n",
    "        ])\n",
    "\n",
    "# RandomForest è un algoritmo che (a differenza del DecisionTree) genera molteplici alberi. \n",
    "# Ogni albero classifica un oggetto basandosi sui suoi attributi ed esprimerà quindi un voto per quella classe. \n",
    "# Nel caso del RandomForestClassifier si prenderà quindi in considerazione la classificazione che ha ricevuto più voti fra tutti gli altri alberi nella foresta.\n",
    "\n",
    "pipe=pipe.fit(X,Y)\n",
    "print('Score finale di test: ', pipe.score(X_test, Y_test))\n",
    "\n",
    "\n",
    "train_predictions = pipe.predict(X)\n",
    "train_acc=metrics.accuracy_score(Y,train_predictions)\n",
    "print('Accuratezza train: %s'  % train_acc)\n",
    "\n",
    "test_predictions = pipe.predict(X_test)\n",
    "test_acc=metrics.accuracy_score(Y_test,test_predictions)\n",
    "print('Accuratezza test: %s'  % test_acc)\n",
    "\n",
    "print('%s%%' % int(test_acc*100))\n"
   ]
  }
 ],
 "metadata": {
  "kernelspec": {
   "display_name": "Python 3",
   "language": "python",
   "name": "python3"
  },
  "language_info": {
   "codemirror_mode": {
    "name": "ipython",
    "version": 3
   },
   "file_extension": ".py",
   "mimetype": "text/x-python",
   "name": "python",
   "nbconvert_exporter": "python",
   "pygments_lexer": "ipython3",
   "version": "3.8.2"
  }
 },
 "nbformat": 4,
 "nbformat_minor": 4
}
